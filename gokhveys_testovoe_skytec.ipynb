{
 "cells": [
  {
   "cell_type": "markdown",
   "id": "5fac1824-e3d0-45bf-bacf-97a2969f88c4",
   "metadata": {},
   "source": [
    "## Исходный датасет\n",
    "*4 часа (долгая обработка + пришлось добавлять параллельное выполнение)*"
   ]
  },
  {
   "cell_type": "code",
   "execution_count": 1,
   "id": "e84573a4-22ce-444d-8a18-2feeec6019df",
   "metadata": {},
   "outputs": [],
   "source": [
    "import numpy as np\n",
    "import pandas as pd\n",
    "from faker import Faker\n",
    "from datetime import datetime, timedelta\n",
    "import re\n",
    "import matplotlib.pyplot as plt\n",
    "import multiprocessing as mp"
   ]
  },
  {
   "cell_type": "code",
   "execution_count": 2,
   "id": "25012ae5-4168-4b91-8d82-dfd538b3d42f",
   "metadata": {},
   "outputs": [
    {
     "name": "stdout",
     "output_type": "stream",
     "text": [
      "Размер пачки на 1 воркера: 1000000\n"
     ]
    }
   ],
   "source": [
    "# параметры\n",
    "num_records = 10_000_000  # кол-во записей (на 100 млн крашится юпитер при формировании датафрейма, оптимизировал как мог) \n",
    "duplicate_ratio = 0.1     # процент дублей\n",
    "num_workers = 10          # кол-во воркеров (опционально)\n",
    "batch_size = num_records // num_workers\n",
    "\n",
    "\n",
    "# инициализация Faker\n",
    "fake = Faker()\n",
    "# генерация числовых данных\n",
    "numeric_data = np.random.randint(0, 1000, num_records)\n",
    "\n",
    "print(f\"Размер пачки на 1 воркера: {batch_size}\")"
   ]
  },
  {
   "cell_type": "code",
   "execution_count": 3,
   "id": "eeedbbcd-5d90-48ae-b972-bb71e9bc264f",
   "metadata": {},
   "outputs": [],
   "source": [
    "# генерация дат (потребляет относительно немного ресурсов, поэтому не стал добавлять параллельность)\n",
    "start_date = datetime(2015, 1, 1)\n",
    "end_date = datetime(2023, 1, 1)\n",
    "date_range = (end_date - start_date).days\n",
    "date_data = [start_date + timedelta(days=np.random.randint(0, date_range)) for _ in range(num_records)]\n",
    "# TODO добавить параллельную генерацию"
   ]
  },
  {
   "cell_type": "code",
   "execution_count": 4,
   "id": "af5c2551-fbf0-40d4-8618-1781a14eef5d",
   "metadata": {},
   "outputs": [
    {
     "name": "stdout",
     "output_type": "stream",
     "text": [
      "[datetime.datetime(2018, 5, 4, 0, 0), datetime.datetime(2020, 3, 13, 0, 0), datetime.datetime(2015, 6, 6, 0, 0), datetime.datetime(2019, 9, 15, 0, 0), datetime.datetime(2022, 7, 23, 0, 0), datetime.datetime(2016, 4, 15, 0, 0), datetime.datetime(2017, 12, 12, 0, 0), datetime.datetime(2019, 1, 6, 0, 0), datetime.datetime(2020, 8, 26, 0, 0), datetime.datetime(2016, 2, 27, 0, 0)]\n"
     ]
    }
   ],
   "source": [
    "print(date_data[:10])  # вывод первых 10 дат\n"
   ]
  },
  {
   "cell_type": "code",
   "execution_count": 5,
   "id": "211cee4d-402e-4ea3-864e-0b0742a96f16",
   "metadata": {},
   "outputs": [
    {
     "name": "stdout",
     "output_type": "stream",
     "text": [
      "['Brian Morris', 'Michael Carter', 'Brian James', 'Billy Herrera', 'Dawn Stewart', 'Roger Craig', 'Cheryl Johnson', 'Michelle Joseph', 'Jason Meadows', 'Joshua Williams']\n"
     ]
    }
   ],
   "source": [
    "def generate_names(batch_size):\n",
    "    return [fake.name() for _ in range(batch_size)]\n",
    "\n",
    "# генерим данные в несколько потоков (иначе у меня крашился юпитер)\n",
    "if __name__ == '__main__':\n",
    "    with mp.Pool(processes=num_workers) as pool:\n",
    "        results = pool.map(generate_names, [batch_size] * num_workers)\n",
    "\n",
    "# мержим в один список\n",
    "string_data = [name for sublist in results for name in sublist]\n",
    "\n",
    "print(string_data[:10])  # вывод первых 10 имен"
   ]
  },
  {
   "cell_type": "code",
   "execution_count": 6,
   "id": "bf77cb01-6420-4af8-aeb6-ae5744182bff",
   "metadata": {},
   "outputs": [],
   "source": [
    "# len(numeric_data)\n",
    "# len(date_data)\n",
    "# len(string_data)"
   ]
  },
  {
   "cell_type": "code",
   "execution_count": 7,
   "id": "252423f9-894b-4eb3-b2bd-9c8508287c5f",
   "metadata": {},
   "outputs": [],
   "source": [
    "# формируем датафрейм\n",
    "df = pd.DataFrame({\n",
    "    'numeric': numeric_data,\n",
    "    'date': date_data,\n",
    "    'string': string_data\n",
    "})"
   ]
  },
  {
   "cell_type": "code",
   "execution_count": 8,
   "id": "a035e5b8-e215-4eba-9531-42fd7a7e564c",
   "metadata": {},
   "outputs": [],
   "source": [
    "# df.head(5)\n",
    "# df.tail(5)"
   ]
  },
  {
   "cell_type": "code",
   "execution_count": 9,
   "id": "5389db90-2990-4214-8778-1b8d049db922",
   "metadata": {},
   "outputs": [],
   "source": [
    "# дублируем значения\n",
    "num_duplicates = int(num_records * duplicate_ratio)\n",
    "duplicates = df.sample(num_duplicates)\n",
    "df = pd.concat([df, duplicates], ignore_index=True)"
   ]
  },
  {
   "cell_type": "code",
   "execution_count": 10,
   "id": "4992213e-c041-4f04-9bc8-421ccd6b4992",
   "metadata": {},
   "outputs": [
    {
     "data": {
      "text/plain": [
       "11000000"
      ]
     },
     "execution_count": 10,
     "metadata": {},
     "output_type": "execute_result"
    }
   ],
   "source": [
    "len(df)"
   ]
  },
  {
   "cell_type": "code",
   "execution_count": 11,
   "id": "9224add0-f9a9-44e5-a13e-f6e97276cb21",
   "metadata": {},
   "outputs": [],
   "source": [
    "# выгружаем в csv\n",
    "csv_filename = 'dataset.csv'\n",
    "df.to_csv(csv_filename, index=False)"
   ]
  },
  {
   "cell_type": "code",
   "execution_count": 12,
   "id": "8a57f596-aa11-4525-9a8e-bf969300f295",
   "metadata": {},
   "outputs": [],
   "source": [
    "# выгружаем в json (опционально)\n",
    "# json_filename = 'dataset.json'\n",
    "# df.to_json(json_filename, orient='records', lines=True)"
   ]
  },
  {
   "cell_type": "code",
   "execution_count": 13,
   "id": "01d587cc-c3b1-4baa-bcc1-2a47d7f95876",
   "metadata": {},
   "outputs": [
    {
     "name": "stdout",
     "output_type": "stream",
     "text": [
      "Датасет создан с 11000000 записями, включая 1000000 дублей.\n",
      "Файлы сохранены как dataset.csv.\n",
      "Первые 5 строк: \n",
      "   numeric       date          string\n",
      "0      197 2018-05-04    Brian Morris\n",
      "1      685 2020-03-13  Michael Carter\n",
      "2      962 2015-06-06     Brian James\n",
      "3      662 2019-09-15   Billy Herrera\n",
      "4      802 2022-07-23    Dawn Stewart\n"
     ]
    }
   ],
   "source": [
    "print(f\"Датасет создан с {len(df)} записями, включая {num_duplicates} дублей.\")\n",
    "print(f\"Файлы сохранены как {csv_filename}.\")\n",
    "print(f\"Первые 5 строк: \\n{df.head(5)}\")"
   ]
  },
  {
   "cell_type": "markdown",
   "id": "334e9665-924a-4315-a54b-94b236eff658",
   "metadata": {},
   "source": [
    "---\n",
    "\n",
    "## Считывание и процессинг"
   ]
  },
  {
   "cell_type": "code",
   "execution_count": 14,
   "id": "beccae50-fbfd-4c17-bf43-e27ca81cf7c0",
   "metadata": {},
   "outputs": [],
   "source": [
    "# считываем данные\n",
    "file_path = 'dataset.csv' # путь к файлу\n",
    "df = pd.read_csv(file_path)"
   ]
  },
  {
   "cell_type": "code",
   "execution_count": 15,
   "id": "01f102e5-bf6c-40c1-af26-56bafbdd3d2c",
   "metadata": {},
   "outputs": [],
   "source": [
    "# удаляем пустые строки\n",
    "def remove_na(df):\n",
    "    return df.dropna()"
   ]
  },
  {
   "cell_type": "code",
   "execution_count": 16,
   "id": "929bed28-3041-405f-a475-bccf66362a88",
   "metadata": {},
   "outputs": [],
   "source": [
    "# удаляем дубли\n",
    "def remove_duplicates(df):\n",
    "    return df.drop_duplicates()"
   ]
  },
  {
   "cell_type": "code",
   "execution_count": 17,
   "id": "d603a093-87a9-467c-bec5-f90f3d1c8444",
   "metadata": {},
   "outputs": [],
   "source": [
    "# делаем из строк без цифр пустые строки\n",
    "def remove_non_numeric_strings(df, column_name):\n",
    "    df[column_name] = df[column_name].apply(lambda x: '' if not re.search(r'\\d', str(x)) else x) # если в x есть хоть одна цифра то True\n",
    "    return df"
   ]
  },
  {
   "cell_type": "code",
   "execution_count": 18,
   "id": "45246392-6395-487b-ae3b-f6ce21c664dc",
   "metadata": {},
   "outputs": [],
   "source": [
    "# удаляем записи в промежутке от 1 до 3 часов ночи\n",
    "def remove_time_interval(df, column_name):\n",
    "    df[column_name] = pd.to_datetime(df[column_name])\n",
    "    return df[~((df[column_name].dt.hour >= 1) & (df[column_name].dt.hour < 3))]"
   ]
  },
  {
   "cell_type": "code",
   "execution_count": 19,
   "id": "8b1c3847-f79b-4b2e-be40-9b37a8988b27",
   "metadata": {},
   "outputs": [],
   "source": [
    "# ПОСЛЕДОВАТЕЛЬНО обрабатываем данные (параллельно не получилось)\n",
    "df = remove_na(df)\n",
    "df = remove_duplicates(df)\n",
    "df = remove_non_numeric_strings(df, column_name='string')\n",
    "df = remove_time_interval(df, column_name='date')"
   ]
  },
  {
   "cell_type": "code",
   "execution_count": 20,
   "id": "6ffee640-e9e8-49f6-8b29-736d9abf99f1",
   "metadata": {},
   "outputs": [],
   "source": [
    "# *Параллельная обработка* данных\n",
    "# TODO"
   ]
  },
  {
   "cell_type": "code",
   "execution_count": 21,
   "id": "c127aad6-179b-4490-ad43-b137534d12b4",
   "metadata": {},
   "outputs": [],
   "source": [
    "# Сохранение обработанных данных\n",
    "df.to_csv('processed_dataset.csv', index=False)"
   ]
  },
  {
   "cell_type": "code",
   "execution_count": 22,
   "id": "1f4d99a4-77d4-4c97-8858-e8639efad6d2",
   "metadata": {},
   "outputs": [
    {
     "name": "stdout",
     "output_type": "stream",
     "text": [
      "Обработка завершена.\n"
     ]
    }
   ],
   "source": [
    "print(\"Обработка завершена.\")"
   ]
  },
  {
   "cell_type": "markdown",
   "id": "ca3767e9-1131-4f8a-92c3-85644b801822",
   "metadata": {},
   "source": [
    "---\n",
    "\n",
    "## Расчет метрик"
   ]
  },
  {
   "cell_type": "code",
   "execution_count": 23,
   "id": "3f68bc61-b407-401a-a9a8-c8d855a9c212",
   "metadata": {},
   "outputs": [],
   "source": [
    "# считываем данные\n",
    "file_path = 'processed_dataset.csv'\n",
    "df = pd.read_csv(file_path)\n"
   ]
  },
  {
   "cell_type": "code",
   "execution_count": 24,
   "id": "c271082e-e8ce-46a1-98a5-707a115c072d",
   "metadata": {},
   "outputs": [
    {
     "data": {
      "text/plain": [
       "0   2018-05-04\n",
       "1   2020-03-13\n",
       "2   2015-06-06\n",
       "3   2019-09-15\n",
       "4   2022-07-23\n",
       "Name: date, dtype: datetime64[ns]"
      ]
     },
     "execution_count": 24,
     "metadata": {},
     "output_type": "execute_result"
    }
   ],
   "source": [
    "# парсим в datetime\n",
    "df['date'] = pd.to_datetime(df['date'])\n",
    "df['date'].head(5)"
   ]
  },
  {
   "cell_type": "code",
   "execution_count": 25,
   "id": "4dfaf31e-8d87-427d-8a5c-2efd8aa67cc8",
   "metadata": {},
   "outputs": [
    {
     "data": {
      "text/plain": [
       "0    0\n",
       "1    0\n",
       "2    0\n",
       "3    0\n",
       "4    0\n",
       "Name: hour, dtype: int32"
      ]
     },
     "execution_count": 25,
     "metadata": {},
     "output_type": "execute_result"
    }
   ],
   "source": [
    "# создаем поле hour\n",
    "df['hour'] = df['date'].dt.hour\n",
    "df['hour'].head(5) # TODO"
   ]
  },
  {
   "cell_type": "code",
   "execution_count": 26,
   "id": "16d13170-fb7f-4046-b190-e0d386bc0f58",
   "metadata": {},
   "outputs": [
    {
     "name": "stdout",
     "output_type": "stream",
     "text": [
      "Есть ли пропущенные значения в 'numeric': False\n"
     ]
    }
   ],
   "source": [
    "# проверка на пропущенные значения numeric\n",
    "df['numeric'] = pd.to_numeric(df['numeric'], errors='coerce')\n",
    "print(\"Есть ли пропущенные значения в 'numeric':\", df['numeric'].isnull().any())\n",
    "\n",
    "# удаляем строки с пропущенными значениями \n",
    "df = df.dropna(subset=['numeric'])"
   ]
  },
  {
   "cell_type": "code",
   "execution_count": 27,
   "id": "2daa5358-39bd-49a9-8abc-90597b3dbc19",
   "metadata": {},
   "outputs": [],
   "source": [
    "# агрегация по часам\n",
    "aggregated_df = df.groupby('hour').agg(\n",
    "    unique_strings=('string', 'nunique'),\n",
    "    mean_numeric=('numeric', 'mean'),\n",
    "    median_numeric=('numeric', 'median')\n",
    ").reset_index()"
   ]
  },
  {
   "cell_type": "code",
   "execution_count": 28,
   "id": "2e1c47e6-ccfe-403b-b8b9-d7ab96c5534e",
   "metadata": {},
   "outputs": [],
   "source": [
    "# сохраняем\n",
    "aggregated_df.to_csv('aggregated_metrics.csv', index=False)"
   ]
  },
  {
   "cell_type": "code",
   "execution_count": 29,
   "id": "09a6071f-7d35-4737-987e-8d03668f8400",
   "metadata": {},
   "outputs": [
    {
     "name": "stdout",
     "output_type": "stream",
     "text": [
      "   hour  unique_strings  mean_numeric  median_numeric\n",
      "0     0               0    499.410001           499.0\n"
     ]
    }
   ],
   "source": [
    "print(aggregated_df) # TODO сделать правильный datetime\n"
   ]
  },
  {
   "cell_type": "code",
   "execution_count": 30,
   "id": "0758eae1-64a1-434e-9857-a2352c83d8d3",
   "metadata": {},
   "outputs": [
    {
     "name": "stdout",
     "output_type": "stream",
     "text": [
      "Агрегация завершена.\n"
     ]
    }
   ],
   "source": [
    "print(\"Агрегация завершена.\")"
   ]
  },
  {
   "cell_type": "markdown",
   "id": "ee78d514-016d-4e9b-b371-b374e7cad263",
   "metadata": {},
   "source": [
    "```SQL\n",
    "-- sql запрос для агрегации данных (валиден для ClickHouse)\n",
    "SELECT\n",
    "    toHour(date) AS hour,\n",
    "    countDistinct(string) AS unique_strings,\n",
    "    avg(numeric) AS mean_numeric,\n",
    "    median(numeric) AS median_numeric\n",
    "FROM\n",
    "    table_name GROUP BY toHour(date) ORDER BY hour;\n",
    "```"
   ]
  },
  {
   "cell_type": "markdown",
   "id": "27114fb6-c499-45fc-930d-cd25d6676ea2",
   "metadata": {},
   "source": [
    "---\n",
    "\n",
    "## Мерж с метриками\n",
    "*1 час*"
   ]
  },
  {
   "cell_type": "code",
   "execution_count": 31,
   "id": "ffa65025-6084-46cf-8eb0-1d51629d5e7e",
   "metadata": {},
   "outputs": [],
   "source": [
    "# Считывание данных\n",
    "df = pd.read_csv('dataset.csv')\n",
    "metrics = pd.read_csv('aggregated_metrics.csv')\n"
   ]
  },
  {
   "cell_type": "code",
   "execution_count": 32,
   "id": "23ba555c-38ec-484d-99eb-7027e89e3303",
   "metadata": {},
   "outputs": [],
   "source": [
    "# выносим в отдельное поле\n",
    "df['date'] = pd.to_datetime(df['date'])\n",
    "df['hour'] = df['date'].dt.hour\n"
   ]
  },
  {
   "cell_type": "code",
   "execution_count": 33,
   "id": "8ce806d0-e289-45fc-95de-dbfe51371353",
   "metadata": {},
   "outputs": [],
   "source": [
    "# Переименовываем столбец в метриках для предотвращения конфликта имен\n",
    "metrics.rename(columns={'hour': 'metric_hour'}, inplace=True)\n"
   ]
  },
  {
   "cell_type": "code",
   "execution_count": 34,
   "id": "c34d6576-b1a7-4287-be43-cdfd1fbf207a",
   "metadata": {},
   "outputs": [],
   "source": [
    "# Мерж по часам\n",
    "df = df.merge(metrics, left_on='hour', right_on='metric_hour', how='left')\n"
   ]
  },
  {
   "cell_type": "code",
   "execution_count": 35,
   "id": "63a79c14-5b14-473f-a6ce-9159c3bae19e",
   "metadata": {},
   "outputs": [],
   "source": [
    "# дропаем временный столбец\n",
    "df.drop(columns=['metric_hour'], inplace=True)\n"
   ]
  },
  {
   "cell_type": "code",
   "execution_count": 36,
   "id": "3d854908-d73f-4842-90ac-435c89cae3fd",
   "metadata": {},
   "outputs": [],
   "source": [
    "# сохраняем\n",
    "df.to_csv('merged_dataset.csv', index=False)\n"
   ]
  },
  {
   "cell_type": "code",
   "execution_count": 37,
   "id": "ef745434-048e-420d-b313-92aa5f56caea",
   "metadata": {},
   "outputs": [
    {
     "name": "stdout",
     "output_type": "stream",
     "text": [
      "Мерж завершен.\n"
     ]
    },
    {
     "data": {
      "text/html": [
       "<div>\n",
       "<style scoped>\n",
       "    .dataframe tbody tr th:only-of-type {\n",
       "        vertical-align: middle;\n",
       "    }\n",
       "\n",
       "    .dataframe tbody tr th {\n",
       "        vertical-align: top;\n",
       "    }\n",
       "\n",
       "    .dataframe thead th {\n",
       "        text-align: right;\n",
       "    }\n",
       "</style>\n",
       "<table border=\"1\" class=\"dataframe\">\n",
       "  <thead>\n",
       "    <tr style=\"text-align: right;\">\n",
       "      <th></th>\n",
       "      <th>numeric</th>\n",
       "      <th>date</th>\n",
       "      <th>string</th>\n",
       "      <th>hour</th>\n",
       "      <th>unique_strings</th>\n",
       "      <th>mean_numeric</th>\n",
       "      <th>median_numeric</th>\n",
       "    </tr>\n",
       "  </thead>\n",
       "  <tbody>\n",
       "    <tr>\n",
       "      <th>0</th>\n",
       "      <td>197</td>\n",
       "      <td>2018-05-04</td>\n",
       "      <td>Brian Morris</td>\n",
       "      <td>0</td>\n",
       "      <td>0</td>\n",
       "      <td>499.410001</td>\n",
       "      <td>499.0</td>\n",
       "    </tr>\n",
       "    <tr>\n",
       "      <th>1</th>\n",
       "      <td>685</td>\n",
       "      <td>2020-03-13</td>\n",
       "      <td>Michael Carter</td>\n",
       "      <td>0</td>\n",
       "      <td>0</td>\n",
       "      <td>499.410001</td>\n",
       "      <td>499.0</td>\n",
       "    </tr>\n",
       "    <tr>\n",
       "      <th>2</th>\n",
       "      <td>962</td>\n",
       "      <td>2015-06-06</td>\n",
       "      <td>Brian James</td>\n",
       "      <td>0</td>\n",
       "      <td>0</td>\n",
       "      <td>499.410001</td>\n",
       "      <td>499.0</td>\n",
       "    </tr>\n",
       "    <tr>\n",
       "      <th>3</th>\n",
       "      <td>662</td>\n",
       "      <td>2019-09-15</td>\n",
       "      <td>Billy Herrera</td>\n",
       "      <td>0</td>\n",
       "      <td>0</td>\n",
       "      <td>499.410001</td>\n",
       "      <td>499.0</td>\n",
       "    </tr>\n",
       "    <tr>\n",
       "      <th>4</th>\n",
       "      <td>802</td>\n",
       "      <td>2022-07-23</td>\n",
       "      <td>Dawn Stewart</td>\n",
       "      <td>0</td>\n",
       "      <td>0</td>\n",
       "      <td>499.410001</td>\n",
       "      <td>499.0</td>\n",
       "    </tr>\n",
       "    <tr>\n",
       "      <th>5</th>\n",
       "      <td>182</td>\n",
       "      <td>2016-04-15</td>\n",
       "      <td>Roger Craig</td>\n",
       "      <td>0</td>\n",
       "      <td>0</td>\n",
       "      <td>499.410001</td>\n",
       "      <td>499.0</td>\n",
       "    </tr>\n",
       "    <tr>\n",
       "      <th>6</th>\n",
       "      <td>45</td>\n",
       "      <td>2017-12-12</td>\n",
       "      <td>Cheryl Johnson</td>\n",
       "      <td>0</td>\n",
       "      <td>0</td>\n",
       "      <td>499.410001</td>\n",
       "      <td>499.0</td>\n",
       "    </tr>\n",
       "    <tr>\n",
       "      <th>7</th>\n",
       "      <td>890</td>\n",
       "      <td>2019-01-06</td>\n",
       "      <td>Michelle Joseph</td>\n",
       "      <td>0</td>\n",
       "      <td>0</td>\n",
       "      <td>499.410001</td>\n",
       "      <td>499.0</td>\n",
       "    </tr>\n",
       "    <tr>\n",
       "      <th>8</th>\n",
       "      <td>836</td>\n",
       "      <td>2020-08-26</td>\n",
       "      <td>Jason Meadows</td>\n",
       "      <td>0</td>\n",
       "      <td>0</td>\n",
       "      <td>499.410001</td>\n",
       "      <td>499.0</td>\n",
       "    </tr>\n",
       "    <tr>\n",
       "      <th>9</th>\n",
       "      <td>852</td>\n",
       "      <td>2016-02-27</td>\n",
       "      <td>Joshua Williams</td>\n",
       "      <td>0</td>\n",
       "      <td>0</td>\n",
       "      <td>499.410001</td>\n",
       "      <td>499.0</td>\n",
       "    </tr>\n",
       "  </tbody>\n",
       "</table>\n",
       "</div>"
      ],
      "text/plain": [
       "   numeric       date           string  hour  unique_strings  mean_numeric  \\\n",
       "0      197 2018-05-04     Brian Morris     0               0    499.410001   \n",
       "1      685 2020-03-13   Michael Carter     0               0    499.410001   \n",
       "2      962 2015-06-06      Brian James     0               0    499.410001   \n",
       "3      662 2019-09-15    Billy Herrera     0               0    499.410001   \n",
       "4      802 2022-07-23     Dawn Stewart     0               0    499.410001   \n",
       "5      182 2016-04-15      Roger Craig     0               0    499.410001   \n",
       "6       45 2017-12-12   Cheryl Johnson     0               0    499.410001   \n",
       "7      890 2019-01-06  Michelle Joseph     0               0    499.410001   \n",
       "8      836 2020-08-26    Jason Meadows     0               0    499.410001   \n",
       "9      852 2016-02-27  Joshua Williams     0               0    499.410001   \n",
       "\n",
       "   median_numeric  \n",
       "0           499.0  \n",
       "1           499.0  \n",
       "2           499.0  \n",
       "3           499.0  \n",
       "4           499.0  \n",
       "5           499.0  \n",
       "6           499.0  \n",
       "7           499.0  \n",
       "8           499.0  \n",
       "9           499.0  "
      ]
     },
     "execution_count": 37,
     "metadata": {},
     "output_type": "execute_result"
    }
   ],
   "source": [
    "print(\"Мерж завершен.\")\n",
    "df.head(10)"
   ]
  },
  {
   "cell_type": "markdown",
   "id": "10c3584c-0d06-49a7-92bc-a1440895a74a",
   "metadata": {},
   "source": [
    "---\n",
    "\n",
    "## Аналитические метрики\n",
    "*0.5 часа*"
   ]
  },
  {
   "cell_type": "code",
   "execution_count": 38,
   "id": "cbb1e521-2342-47ee-aa9b-bebfa925cb52",
   "metadata": {},
   "outputs": [],
   "source": [
    "# считываем данные\n",
    "file_path = 'merged_dataset.csv' \n",
    "df = pd.read_csv(file_path)"
   ]
  },
  {
   "cell_type": "code",
   "execution_count": 39,
   "id": "92263d7f-06f0-40ce-b6b6-9609a81b9829",
   "metadata": {},
   "outputs": [
    {
     "data": {
      "image/png": "[encoded data removed]",
      "text/plain": [
       "<Figure size 1000x600 with 1 Axes>"
      ]
     },
     "metadata": {},
     "output_type": "display_data"
    }
   ],
   "source": [
    "# гисторгамма по numeric\n",
    "plt.figure(figsize=(10, 6))\n",
    "plt.hist(df['numeric'].dropna(), bins=50, edgecolor='k', alpha=0.7)\n",
    "plt.title('Гистограмма значений в колонке numeric')\n",
    "plt.xlabel('Значение')\n",
    "plt.ylabel('Частота')\n",
    "plt.grid(True)\n",
    "plt.show()\n"
   ]
  },
  {
   "cell_type": "code",
   "execution_count": 40,
   "id": "885f44d7-4786-4bd0-8a6e-043d5d9f3de1",
   "metadata": {},
   "outputs": [],
   "source": [
    "# доверительный интервал\n",
    "# не сделал"
   ]
  },
  {
   "cell_type": "markdown",
   "id": "a208e079-d64d-41f6-9788-14bf2c2147be",
   "metadata": {},
   "source": [
    "---\n",
    "\n",
    "## Визуализация \n",
    "*(1.5 часа)*"
   ]
  },
  {
   "cell_type": "code",
   "execution_count": 41,
   "id": "e397befc-cd3f-4738-8dd0-ca2b3f69fdb7",
   "metadata": {},
   "outputs": [],
   "source": [
    "# график среднего значения numeric по месяцам\n",
    "# создаем столбцы для года и месяца\n",
    "df['date'] = pd.to_datetime(df['date'])\n",
    "df['year_month'] = df['date'].dt.to_period('M')\n"
   ]
  },
  {
   "cell_type": "code",
   "execution_count": 42,
   "id": "a14399ca-c480-4795-868d-4b5584e7e894",
   "metadata": {},
   "outputs": [
    {
     "data": {
      "text/html": [
       "<div>\n",
       "<style scoped>\n",
       "    .dataframe tbody tr th:only-of-type {\n",
       "        vertical-align: middle;\n",
       "    }\n",
       "\n",
       "    .dataframe tbody tr th {\n",
       "        vertical-align: top;\n",
       "    }\n",
       "\n",
       "    .dataframe thead th {\n",
       "        text-align: right;\n",
       "    }\n",
       "</style>\n",
       "<table border=\"1\" class=\"dataframe\">\n",
       "  <thead>\n",
       "    <tr style=\"text-align: right;\">\n",
       "      <th></th>\n",
       "      <th>year_month</th>\n",
       "      <th>numeric</th>\n",
       "    </tr>\n",
       "  </thead>\n",
       "  <tbody>\n",
       "    <tr>\n",
       "      <th>0</th>\n",
       "      <td>2015-01</td>\n",
       "      <td>498.295795</td>\n",
       "    </tr>\n",
       "    <tr>\n",
       "      <th>1</th>\n",
       "      <td>2015-02</td>\n",
       "      <td>499.653644</td>\n",
       "    </tr>\n",
       "    <tr>\n",
       "      <th>2</th>\n",
       "      <td>2015-03</td>\n",
       "      <td>500.423920</td>\n",
       "    </tr>\n",
       "    <tr>\n",
       "      <th>3</th>\n",
       "      <td>2015-04</td>\n",
       "      <td>499.079779</td>\n",
       "    </tr>\n",
       "    <tr>\n",
       "      <th>4</th>\n",
       "      <td>2015-05</td>\n",
       "      <td>499.193454</td>\n",
       "    </tr>\n",
       "  </tbody>\n",
       "</table>\n",
       "</div>"
      ],
      "text/plain": [
       "  year_month     numeric\n",
       "0    2015-01  498.295795\n",
       "1    2015-02  499.653644\n",
       "2    2015-03  500.423920\n",
       "3    2015-04  499.079779\n",
       "4    2015-05  499.193454"
      ]
     },
     "execution_count": 42,
     "metadata": {},
     "output_type": "execute_result"
    }
   ],
   "source": [
    "# группируем по году и месяцу и считаем среднее значения\n",
    "monthly_mean = df.groupby('year_month')['numeric'].mean().reset_index()\n",
    "monthly_mean.head(5)"
   ]
  },
  {
   "cell_type": "code",
   "execution_count": 43,
   "id": "8276a0bb-30e5-4080-96f1-dd22f5bc1dd4",
   "metadata": {},
   "outputs": [
    {
     "data": {
      "image/png": "[encoded data removed]",
      "text/plain": [
       "<Figure size 1200x600 with 1 Axes>"
      ]
     },
     "metadata": {},
     "output_type": "display_data"
    }
   ],
   "source": [
    "# график\n",
    "plt.figure(figsize=(12, 6))\n",
    "plt.plot(monthly_mean['year_month'].astype(str), monthly_mean['numeric'], marker='o', linestyle='-')\n",
    "plt.title('Среднее значение numeric по месяцам')\n",
    "plt.xlabel('Месяц')\n",
    "plt.ylabel('Среднее значение')\n",
    "plt.xticks(rotation=90)\n",
    "plt.grid(True)\n",
    "plt.tight_layout()\n",
    "plt.show()"
   ]
  },
  {
   "cell_type": "code",
   "execution_count": 44,
   "id": "afb8774e-41ea-4508-9051-f3fd194e7d24",
   "metadata": {},
   "outputs": [],
   "source": [
    "# heatmap по частотности символов в колонке string\n",
    "# мержим строки в одну\n",
    "all_strings = ' '.join(df['string'].dropna())\n"
   ]
  },
  {
   "cell_type": "code",
   "execution_count": 45,
   "id": "b47ca846-1c88-41ad-9850-81231391af17",
   "metadata": {},
   "outputs": [],
   "source": [
    "# считаем частотность\n",
    "char_freq = pd.Series(list(all_strings)).value_counts().reset_index()\n",
    "char_freq.columns = ['Character', 'Frequency']\n"
   ]
  },
  {
   "cell_type": "code",
   "execution_count": 46,
   "id": "b5103892-33a3-4bf6-8e2d-fde4c1ff07f6",
   "metadata": {},
   "outputs": [
    {
     "data": {
      "text/html": [
       "<div>\n",
       "<style scoped>\n",
       "    .dataframe tbody tr th:only-of-type {\n",
       "        vertical-align: middle;\n",
       "    }\n",
       "\n",
       "    .dataframe tbody tr th {\n",
       "        vertical-align: top;\n",
       "    }\n",
       "\n",
       "    .dataframe thead th {\n",
       "        text-align: right;\n",
       "    }\n",
       "</style>\n",
       "<table border=\"1\" class=\"dataframe\">\n",
       "  <thead>\n",
       "    <tr style=\"text-align: right;\">\n",
       "      <th></th>\n",
       "      <th>Character</th>\n",
       "      <th>Frequency</th>\n",
       "    </tr>\n",
       "  </thead>\n",
       "  <tbody>\n",
       "    <tr>\n",
       "      <th>0</th>\n",
       "      <td></td>\n",
       "      <td>22488675</td>\n",
       "    </tr>\n",
       "    <tr>\n",
       "      <th>1</th>\n",
       "      <td>e</td>\n",
       "      <td>13583007</td>\n",
       "    </tr>\n",
       "    <tr>\n",
       "      <th>2</th>\n",
       "      <td>a</td>\n",
       "      <td>13482308</td>\n",
       "    </tr>\n",
       "    <tr>\n",
       "      <th>3</th>\n",
       "      <td>n</td>\n",
       "      <td>10987829</td>\n",
       "    </tr>\n",
       "    <tr>\n",
       "      <th>4</th>\n",
       "      <td>r</td>\n",
       "      <td>10514599</td>\n",
       "    </tr>\n",
       "  </tbody>\n",
       "</table>\n",
       "</div>"
      ],
      "text/plain": [
       "  Character  Frequency\n",
       "0             22488675\n",
       "1         e   13583007\n",
       "2         a   13482308\n",
       "3         n   10987829\n",
       "4         r   10514599"
      ]
     },
     "execution_count": 46,
     "metadata": {},
     "output_type": "execute_result"
    }
   ],
   "source": [
    "# сортируем по символам \n",
    "char_freq = char_freq.sort_values(by='Frequency', ascending=False)\n",
    "char_freq.head(5)"
   ]
  },
  {
   "cell_type": "code",
   "execution_count": 47,
   "id": "445eeb76-ba4e-475b-a097-24b3696f43b1",
   "metadata": {},
   "outputs": [
    {
     "data": {
      "text/html": [
       "<div>\n",
       "<style scoped>\n",
       "    .dataframe tbody tr th:only-of-type {\n",
       "        vertical-align: middle;\n",
       "    }\n",
       "\n",
       "    .dataframe tbody tr th {\n",
       "        vertical-align: top;\n",
       "    }\n",
       "\n",
       "    .dataframe thead th {\n",
       "        text-align: right;\n",
       "    }\n",
       "</style>\n",
       "<table border=\"1\" class=\"dataframe\">\n",
       "  <thead>\n",
       "    <tr style=\"text-align: right;\">\n",
       "      <th></th>\n",
       "      <th>Frequency</th>\n",
       "    </tr>\n",
       "    <tr>\n",
       "      <th>Character</th>\n",
       "      <th></th>\n",
       "    </tr>\n",
       "  </thead>\n",
       "  <tbody>\n",
       "    <tr>\n",
       "      <th></th>\n",
       "      <td>22488675</td>\n",
       "    </tr>\n",
       "    <tr>\n",
       "      <th>e</th>\n",
       "      <td>13583007</td>\n",
       "    </tr>\n",
       "    <tr>\n",
       "      <th>a</th>\n",
       "      <td>13482308</td>\n",
       "    </tr>\n",
       "    <tr>\n",
       "      <th>n</th>\n",
       "      <td>10987829</td>\n",
       "    </tr>\n",
       "    <tr>\n",
       "      <th>r</th>\n",
       "      <td>10514599</td>\n",
       "    </tr>\n",
       "  </tbody>\n",
       "</table>\n",
       "</div>"
      ],
      "text/plain": [
       "           Frequency\n",
       "Character           \n",
       "            22488675\n",
       "e           13583007\n",
       "a           13482308\n",
       "n           10987829\n",
       "r           10514599"
      ]
     },
     "execution_count": 47,
     "metadata": {},
     "output_type": "execute_result"
    }
   ],
   "source": [
    "# парсим в матричный вид\n",
    "char_matrix = pd.DataFrame({'Frequency': char_freq['Frequency'].values}, index=char_freq['Character'])\n",
    "char_matrix.head(5)"
   ]
  },
  {
   "cell_type": "code",
   "execution_count": 48,
   "id": "1ab2dac7-61ae-445c-b723-16d7492a8b33",
   "metadata": {},
   "outputs": [],
   "source": [
    "# преобразуем в 2д массив\n",
    "max_chars = 20  # ков-во символов по оси х\n",
    "if len(char_matrix) < max_chars:\n",
    "    char_matrix = char_matrix.reindex(range(max_chars), fill_value=0)"
   ]
  },
  {
   "cell_type": "code",
   "execution_count": 49,
   "id": "371ba842-dd28-4533-a794-9e018e7f3e65",
   "metadata": {},
   "outputs": [
    {
     "name": "stdout",
     "output_type": "stream",
     "text": [
      "[[22488675 13583007 13482308 10987829 10514599  8838684  7873935  7418428\n",
      "   6582180  5072793  4911248  3321929  2984199  2834393  2642966  2555828\n",
      "   2251280  1953016  1871840  1712914  1534244  1422479  1410997  1394082\n",
      "   1309246  1141062  1126701  1080175  1051056  1046160   981096   980604\n",
      "    967715   954905   931583   906335   822961   819649   628229   531751\n",
      "    415349   411771   293253   233331   200523   170785    92604    79883\n",
      "     73846    66730    57435     7469     5693     2407]]\n"
     ]
    }
   ],
   "source": [
    "# преобразуем char_matrix в матрицу\n",
    "matrix_data = char_matrix.T.values\n",
    "print(matrix_data)"
   ]
  },
  {
   "cell_type": "code",
   "execution_count": 50,
   "id": "2f91989f-c903-4117-8059-872ebe33a56e",
   "metadata": {},
   "outputs": [
    {
     "data": {
      "image/png": "[encoded data removed]",
      "text/plain": [
       "<Figure size 1200x600 with 2 Axes>"
      ]
     },
     "metadata": {},
     "output_type": "display_data"
    }
   ],
   "source": [
    "# Построение тепловой карты\n",
    "plt.figure(figsize=(12, 6))\n",
    "plt.imshow(matrix_data, cmap='YlGnBu', aspect='auto')\n",
    "plt.colorbar(label='Частота')\n",
    "plt.xticks(ticks=np.arange(len(char_matrix)), labels=char_matrix.index, rotation=90)\n",
    "plt.yticks(ticks=[0], labels=['Частота'])\n",
    "plt.title('Heatmap частотности символов в колонке string')\n",
    "plt.tight_layout()\n",
    "plt.show()\n"
   ]
  },
  {
   "cell_type": "code",
   "execution_count": null,
   "id": "38f2fe73-c82f-4431-b711-935d4fba4613",
   "metadata": {},
   "outputs": [],
   "source": []
  }
 ],
 "metadata": {
  "kernelspec": {
   "display_name": "Python 3 (ipykernel)",
   "language": "python",
   "name": "python3"
  },
  "language_info": {
   "codemirror_mode": {
    "name": "ipython",
    "version": 3
   },
   "file_extension": ".py",
   "mimetype": "text/x-python",
   "name": "python",
   "nbconvert_exporter": "python",
   "pygments_lexer": "ipython3",
   "version": "3.10.12"
  }
 },
 "nbformat": 4,
 "nbformat_minor": 5
}
